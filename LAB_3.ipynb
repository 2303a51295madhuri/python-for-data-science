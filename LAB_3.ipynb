{
  "nbformat": 4,
  "nbformat_minor": 0,
  "metadata": {
    "colab": {
      "provenance": [],
      "include_colab_link": true
    },
    "kernelspec": {
      "name": "python3",
      "display_name": "Python 3"
    },
    "language_info": {
      "name": "python"
    }
  },
  "cells": [
    {
      "cell_type": "markdown",
      "metadata": {
        "id": "view-in-github",
        "colab_type": "text"
      },
      "source": [
        "<a href=\"https://colab.research.google.com/github/2303a51295madhuri/python-for-data-science/blob/main/LAB_3.ipynb\" target=\"_parent\"><img src=\"https://colab.research.google.com/assets/colab-badge.svg\" alt=\"Open In Colab\"/></a>"
      ]
    },
    {
      "cell_type": "markdown",
      "source": [
        "Perform basic arithmetic operations like addition and subtraction\n",
        "on 2D NumPy arrays representing matrices"
      ],
      "metadata": {
        "id": "wnIdmeaRqlsc"
      }
    },
    {
      "cell_type": "code",
      "execution_count": null,
      "metadata": {
        "colab": {
          "base_uri": "https://localhost:8080/"
        },
        "id": "5k9hGQXcp_6U",
        "outputId": "f4ee1d80-1ef6-4756-812c-4509365cc8d6"
      },
      "outputs": [
        {
          "output_type": "stream",
          "name": "stdout",
          "text": [
            "[[20 30 40]\n",
            " [40 50 60]]\n",
            "[[15 10 25]\n",
            " [20 25 35]]\n"
          ]
        }
      ],
      "source": [
        "import numpy as np\n",
        "A=np.array([[20,30,40],[40,50,60]])\n",
        "B=np.array([[15,10,25],[20,25,35]])\n",
        "print(A)\n",
        "print(B)\n"
      ]
    },
    {
      "cell_type": "code",
      "source": [
        "addition=np.add(A,B)\n",
        "print(addition)\n",
        "subtraction=np.subtract(A,B)\n",
        "print(subtraction)"
      ],
      "metadata": {
        "colab": {
          "base_uri": "https://localhost:8080/"
        },
        "id": "hy9yR_DGqCz-",
        "outputId": "793bb2e4-d32b-417e-c05d-bca489c3e8f1"
      },
      "execution_count": null,
      "outputs": [
        {
          "output_type": "stream",
          "name": "stdout",
          "text": [
            "[[35 40 65]\n",
            " [60 75 95]]\n",
            "[[ 5 20 15]\n",
            " [20 25 25]]\n"
          ]
        }
      ]
    },
    {
      "cell_type": "markdown",
      "source": [
        "Apply statistical operations like mean, median, std, min, and max\n",
        "to analyze 2D array data."
      ],
      "metadata": {
        "id": "eFTIBdNgqwcL"
      }
    },
    {
      "cell_type": "code",
      "source": [
        "import numpy as np\n",
        "scores = np.random.randint(0, 101, (4, 4))\n",
        "print(\"Test Scores (4x4):\\n\", scores)\n",
        "row_mean = np.mean(scores, axis=1)\n",
        "print(\"\\nRow-wise Mean (per student):\\n\", row_mean)\n",
        "col_mean = np.mean(scores, axis=0)\n",
        "print(\"\\nColumn-wise Mean (per subject):\\n\", col_mean)\n",
        "std_dev = np.std(scores)\n",
        "variance = np.var(scores)\n",
        "print(\"\\nStandard Deviation of all scores:\", std_dev)\n",
        "print(\"Variance of all scores:\", variance)\n",
        "max_value = np.max(scores)\n",
        "min_value = np.min(scores)\n",
        "max_index = np.unravel_index(np.argmax(scores), scores.shape)\n",
        "min_index = np.unravel_index(np.argmin(scores), scores.shape)\n",
        "print(\"\\nMaximum Score:\", max_value)\n",
        "print(\"Minimum Score:\", min_value)"
      ],
      "metadata": {
        "colab": {
          "base_uri": "https://localhost:8080/"
        },
        "id": "NYDmUf_wqSpM",
        "outputId": "e413ca3f-a063-4530-d4cd-9038e3f8d481"
      },
      "execution_count": null,
      "outputs": [
        {
          "output_type": "stream",
          "name": "stdout",
          "text": [
            "Test Scores (4x4):\n",
            " [[ 5 90 18 18]\n",
            " [30 56 19 84]\n",
            " [89 93 21 36]\n",
            " [90 37  6 58]]\n",
            "\n",
            "Row-wise Mean (per student):\n",
            " [32.75 47.25 59.75 47.75]\n",
            "\n",
            "Column-wise Mean (per subject):\n",
            " [53.5 69.  16.  49. ]\n",
            "\n",
            "Standard Deviation of all scores: 31.864704219559297\n",
            "Variance of all scores: 1015.359375\n",
            "\n",
            "Maximum Score: 93\n",
            "Minimum Score: 5\n"
          ]
        }
      ]
    },
    {
      "cell_type": "markdown",
      "source": [
        "Apply statistical operations like mean, median, std, min, and max\n",
        "to analyze 2D array data"
      ],
      "metadata": {
        "id": "ks_xNpY1q7Ks"
      }
    },
    {
      "cell_type": "code",
      "source": [
        "import numpy as np\n",
        "image = np.random.randint(0, 256, (3, 3, 3))\n",
        "print(\"Original Image:\\n\", image)\n",
        "red   = image[:, :, 0]\n",
        "green = image[:, :, 1]\n",
        "blue  = image[:, :, 2]\n",
        "print(\"\\nRed Channel:\\n\", red)\n",
        "print(\"\\nGreen Channel:\\n\", green)\n",
        "print(\"\\nBlue Channel:\\n\", blue)\n",
        "print(\"\\nAverage Red:\", np.mean(red))\n",
        "print(\"Average Green:\", np.mean(green))\n",
        "print(\"Average Blue:\", np.mean(blue))\n",
        "bright = np.clip(np.add(image, 50), 0, 255)\n",
        "print(\"\\nBrightened Image:\\n\", bright)\n",
        "dark = np.clip(np.subtract(image, 50), 0, 255)\n",
        "print(\"\\nDarkened Image:\\n\", dark)\n"
      ],
      "metadata": {
        "colab": {
          "base_uri": "https://localhost:8080/"
        },
        "id": "6apIgP1WqamT",
        "outputId": "2f2140a2-f414-4acc-cf7d-224d39d628f7"
      },
      "execution_count": null,
      "outputs": [
        {
          "output_type": "stream",
          "name": "stdout",
          "text": [
            "Original Image:\n",
            " [[[210  80 230]\n",
            "  [164  71  71]\n",
            "  [164 129 108]]\n",
            "\n",
            " [[148 134 151]\n",
            "  [ 81  95 115]\n",
            "  [ 33 133  31]]\n",
            "\n",
            " [[171 221  78]\n",
            "  [ 63  44  65]\n",
            "  [ 36 132  24]]]\n",
            "\n",
            "Red Channel:\n",
            " [[210 164 164]\n",
            " [148  81  33]\n",
            " [171  63  36]]\n",
            "\n",
            "Green Channel:\n",
            " [[ 80  71 129]\n",
            " [134  95 133]\n",
            " [221  44 132]]\n",
            "\n",
            "Blue Channel:\n",
            " [[230  71 108]\n",
            " [151 115  31]\n",
            " [ 78  65  24]]\n",
            "\n",
            "Average Red: 118.88888888888889\n",
            "Average Green: 115.44444444444444\n",
            "Average Blue: 97.0\n",
            "\n",
            "Brightened Image:\n",
            " [[[255 130 255]\n",
            "  [214 121 121]\n",
            "  [214 179 158]]\n",
            "\n",
            " [[198 184 201]\n",
            "  [131 145 165]\n",
            "  [ 83 183  81]]\n",
            "\n",
            " [[221 255 128]\n",
            "  [113  94 115]\n",
            "  [ 86 182  74]]]\n",
            "\n",
            "Darkened Image:\n",
            " [[[160  30 180]\n",
            "  [114  21  21]\n",
            "  [114  79  58]]\n",
            "\n",
            " [[ 98  84 101]\n",
            "  [ 31  45  65]\n",
            "  [  0  83   0]]\n",
            "\n",
            " [[121 171  28]\n",
            "  [ 13   0  15]\n",
            "  [  0  82   0]]]\n"
          ]
        }
      ]
    },
    {
      "cell_type": "code",
      "source": [],
      "metadata": {
        "id": "4uAxOG9KqfHO"
      },
      "execution_count": null,
      "outputs": []
    }
  ]
}