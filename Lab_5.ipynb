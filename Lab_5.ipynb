{
  "nbformat": 4,
  "nbformat_minor": 0,
  "metadata": {
    "colab": {
      "provenance": [],
      "authorship_tag": "ABX9TyMOcenpq8lcS70qZGdQP9tO",
      "include_colab_link": true
    },
    "kernelspec": {
      "name": "python3",
      "display_name": "Python 3"
    },
    "language_info": {
      "name": "python"
    }
  },
  "cells": [
    {
      "cell_type": "markdown",
      "metadata": {
        "id": "view-in-github",
        "colab_type": "text"
      },
      "source": [
        "<a href=\"https://colab.research.google.com/github/2303a51295madhuri/python-for-data-science/blob/main/Lab_5.ipynb\" target=\"_parent\"><img src=\"https://colab.research.google.com/assets/colab-badge.svg\" alt=\"Open In Colab\"/></a>"
      ]
    },
    {
      "cell_type": "markdown",
      "source": [
        "Merge Product and Sales Datasets and Compute Aggregate\n",
        "Statistics using pandas\n"
      ],
      "metadata": {
        "id": "qf-0F_c-5DVO"
      }
    },
    {
      "cell_type": "code",
      "execution_count": 33,
      "metadata": {
        "id": "lRvZemJO2JS7"
      },
      "outputs": [],
      "source": [
        "import pandas as pd"
      ]
    },
    {
      "cell_type": "code",
      "source": [
        "# Products Dataset\n",
        "products = pd.DataFrame({\n",
        "    'product_id': [101, 102, 103, 104, 105],\n",
        "    'product_name': ['Laptop', 'Mouse', 'Keyboard', 'Monitor', 'Headphones'],\n",
        "    'category': ['Electronics', 'Accessories', 'Accessories', 'Electronics', 'Accessories'],\n",
        "    'price': [80000, 1200, 2500, 15000, 3500]\n",
        "})\n",
        "products.to_csv(\"products.csv\", index=False)"
      ],
      "metadata": {
        "id": "7qYGVpeD2TuX"
      },
      "execution_count": 34,
      "outputs": []
    },
    {
      "cell_type": "code",
      "source": [
        "sales = pd.DataFrame({\n",
        "    'sale_id': [1, 2, 3, 4, 5, 6, 7],\n",
        "    'product_id': [101, 102, 103, 101, 105, 105, 104],\n",
        "    'quantity': [2, 10, 5, 1, 3, 1, 2]\n",
        "})\n",
        "sales.to_csv(\"sales.csv\", index=False)"
      ],
      "metadata": {
        "id": "kuXq2co_2d1c"
      },
      "execution_count": 35,
      "outputs": []
    },
    {
      "cell_type": "code",
      "source": [
        "print(\" Datasets Created & Saved: products.csv, sales.csv\\n\")"
      ],
      "metadata": {
        "colab": {
          "base_uri": "https://localhost:8080/",
          "height": 0
        },
        "id": "UuNDEtoG2jho",
        "outputId": "abe8c0a2-5973-4bfc-e00f-ab475f9c6d97"
      },
      "execution_count": 36,
      "outputs": [
        {
          "output_type": "stream",
          "name": "stdout",
          "text": [
            " Datasets Created & Saved: products.csv, sales.csv\n",
            "\n"
          ]
        }
      ]
    },
    {
      "cell_type": "code",
      "source": [
        "products = pd.read_csv(\"products.csv\")\n",
        "sales = pd.read_csv(\"sales.csv\")\n",
        "\n",
        "print(\"PRODUCTS DATASET \")\n",
        "print(products, \"\\n\")\n",
        "\n",
        "print(\"SALES DATASET\")\n",
        "print(sales, \"\\n\")"
      ],
      "metadata": {
        "colab": {
          "base_uri": "https://localhost:8080/",
          "height": 0
        },
        "id": "1CEdwUZu2zCV",
        "outputId": "1717081c-3fee-4c28-e21c-14e764bff3f2"
      },
      "execution_count": 37,
      "outputs": [
        {
          "output_type": "stream",
          "name": "stdout",
          "text": [
            "PRODUCTS DATASET \n",
            "   product_id product_name     category  price\n",
            "0         101       Laptop  Electronics  80000\n",
            "1         102        Mouse  Accessories   1200\n",
            "2         103     Keyboard  Accessories   2500\n",
            "3         104      Monitor  Electronics  15000\n",
            "4         105   Headphones  Accessories   3500 \n",
            "\n",
            "SALES DATASET\n",
            "   sale_id  product_id  quantity\n",
            "0        1         101         2\n",
            "1        2         102        10\n",
            "2        3         103         5\n",
            "3        4         101         1\n",
            "4        5         105         3\n",
            "5        6         105         1\n",
            "6        7         104         2 \n",
            "\n"
          ]
        }
      ]
    },
    {
      "cell_type": "code",
      "source": [
        "# Inner Join\n",
        "merged_inner = pd.merge(sales, products, on='product_id', how='inner')\n",
        "print(\"INNER JOIN RESULT\")\n",
        "print(merged_inner, \"\\n\")\n"
      ],
      "metadata": {
        "colab": {
          "base_uri": "https://localhost:8080/",
          "height": 0
        },
        "id": "8bAVoExJ3Aj-",
        "outputId": "c09a3a20-1baf-47e9-cfa3-d0cfdefd0c9d"
      },
      "execution_count": 38,
      "outputs": [
        {
          "output_type": "stream",
          "name": "stdout",
          "text": [
            "INNER JOIN RESULT\n",
            "   sale_id  product_id  quantity product_name     category  price\n",
            "0        1         101         2       Laptop  Electronics  80000\n",
            "1        2         102        10        Mouse  Accessories   1200\n",
            "2        3         103         5     Keyboard  Accessories   2500\n",
            "3        4         101         1       Laptop  Electronics  80000\n",
            "4        5         105         3   Headphones  Accessories   3500\n",
            "5        6         105         1   Headphones  Accessories   3500\n",
            "6        7         104         2      Monitor  Electronics  15000 \n",
            "\n"
          ]
        }
      ]
    },
    {
      "cell_type": "code",
      "source": [
        "# Outer Join\n",
        "merged_outer = pd.merge(sales, products, on='product_id', how='outer')\n",
        "print(\"OUTER JOIN RESULT\")\n",
        "print(merged_outer, \"\\n\")"
      ],
      "metadata": {
        "colab": {
          "base_uri": "https://localhost:8080/",
          "height": 0
        },
        "id": "XF0p8fJD3HAO",
        "outputId": "479c0db1-b3a0-4c0b-8ba2-d2d547c2363f"
      },
      "execution_count": 39,
      "outputs": [
        {
          "output_type": "stream",
          "name": "stdout",
          "text": [
            "OUTER JOIN RESULT\n",
            "   sale_id  product_id  quantity product_name     category  price\n",
            "0        1         101         2       Laptop  Electronics  80000\n",
            "1        4         101         1       Laptop  Electronics  80000\n",
            "2        2         102        10        Mouse  Accessories   1200\n",
            "3        3         103         5     Keyboard  Accessories   2500\n",
            "4        7         104         2      Monitor  Electronics  15000\n",
            "5        5         105         3   Headphones  Accessories   3500\n",
            "6        6         105         1   Headphones  Accessories   3500 \n",
            "\n"
          ]
        }
      ]
    },
    {
      "cell_type": "code",
      "source": [
        "merged_inner['revenue'] = merged_inner['price'] * merged_inner['quantity']\n",
        "\n",
        "# Total Revenue\n",
        "total_revenue = merged_inner['revenue'].sum()\n",
        "print(f\"TOTAL REVENUE: {total_revenue}\")"
      ],
      "metadata": {
        "colab": {
          "base_uri": "https://localhost:8080/",
          "height": 0
        },
        "id": "XUINtKCd3PCf",
        "outputId": "6d2f9062-72ff-40e6-d604-2c0c0f22417c"
      },
      "execution_count": 40,
      "outputs": [
        {
          "output_type": "stream",
          "name": "stdout",
          "text": [
            "TOTAL REVENUE: 308500\n"
          ]
        }
      ]
    },
    {
      "cell_type": "code",
      "source": [
        "# Average Price\n",
        "average_price = merged_inner['price'].mean()\n",
        "print(f\"AVERAGE PRODUCT PRICE: {average_price}\\n\")"
      ],
      "metadata": {
        "colab": {
          "base_uri": "https://localhost:8080/",
          "height": 0
        },
        "id": "ONokRFSj3aIr",
        "outputId": "46ddbe0d-d587-4a60-d846-2cac2c2db224"
      },
      "execution_count": 41,
      "outputs": [
        {
          "output_type": "stream",
          "name": "stdout",
          "text": [
            "AVERAGE PRODUCT PRICE: 26528.571428571428\n",
            "\n"
          ]
        }
      ]
    },
    {
      "cell_type": "code",
      "source": [
        "\n",
        "# Product-wise Sales\n",
        "product_sales = merged_inner.groupby('product_name')['revenue'].sum().reset_index()\n",
        "print(\"PRODUCT-WISE SALES\")\n",
        "print(product_sales, \"\\n\")"
      ],
      "metadata": {
        "colab": {
          "base_uri": "https://localhost:8080/",
          "height": 0
        },
        "id": "9IGJfO0c3ev1",
        "outputId": "71c24243-a14b-4282-a658-d404f672471f"
      },
      "execution_count": 42,
      "outputs": [
        {
          "output_type": "stream",
          "name": "stdout",
          "text": [
            "PRODUCT-WISE SALES\n",
            "  product_name  revenue\n",
            "0   Headphones    14000\n",
            "1     Keyboard    12500\n",
            "2       Laptop   240000\n",
            "3      Monitor    30000\n",
            "4        Mouse    12000 \n",
            "\n"
          ]
        }
      ]
    },
    {
      "cell_type": "code",
      "source": [
        "# Category-wise Sales\n",
        "category_sales = merged_inner.groupby('category')['revenue'].sum().reset_index()\n",
        "print(\" CATEGORY-WISE SALES \")\n",
        "print(category_sales, \"\\n\")\n"
      ],
      "metadata": {
        "colab": {
          "base_uri": "https://localhost:8080/",
          "height": 0
        },
        "id": "N3RjZvmW3k7S",
        "outputId": "1f547775-97b9-4410-8456-d17d085bc0c3"
      },
      "execution_count": 43,
      "outputs": [
        {
          "output_type": "stream",
          "name": "stdout",
          "text": [
            " CATEGORY-WISE SALES \n",
            "      category  revenue\n",
            "0  Accessories    38500\n",
            "1  Electronics   270000 \n",
            "\n"
          ]
        }
      ]
    },
    {
      "cell_type": "code",
      "source": [
        "# Best-Selling Category\n",
        "best_category = category_sales.loc[category_sales['revenue'].idxmax()]\n",
        "print(f\"BEST SELLING CATEGORY: {best_category['category']} (Revenue: {best_category['revenue']})\")\n"
      ],
      "metadata": {
        "colab": {
          "base_uri": "https://localhost:8080/",
          "height": 0
        },
        "id": "0J8QEUgL3uPR",
        "outputId": "c21aeea5-9a7a-4d35-fd7c-bb13530175af"
      },
      "execution_count": 44,
      "outputs": [
        {
          "output_type": "stream",
          "name": "stdout",
          "text": [
            "BEST SELLING CATEGORY: Electronics (Revenue: 270000)\n"
          ]
        }
      ]
    },
    {
      "cell_type": "markdown",
      "source": [
        "Merge Teachers and Courses Datasets and Compute\n",
        " Aggregate Statistics"
      ],
      "metadata": {
        "id": "esapm0Ge5KLg"
      }
    },
    {
      "cell_type": "code",
      "source": [
        "import pandas as pd"
      ],
      "metadata": {
        "id": "0Cp-1Ukn5Ryp"
      },
      "execution_count": 45,
      "outputs": []
    },
    {
      "cell_type": "code",
      "source": [
        "teachers = pd.DataFrame({\n",
        "    'teacher_id': [1, 2, 3, 4, 5],\n",
        "    'teacher_name': ['madhuri', 'varsha', 'nithya', 'karuna', 'sai'],\n",
        "    'department': ['Computer Science', 'Mathematics', 'Computer Science', 'Physics', 'Mathematics']\n",
        "})\n",
        "teachers.to_csv(\"teachers.csv\", index=False)"
      ],
      "metadata": {
        "id": "VO3laKxQ5_Xx"
      },
      "execution_count": 46,
      "outputs": []
    },
    {
      "cell_type": "code",
      "source": [
        "courses = pd.DataFrame({\n",
        "    'course_id': [101, 102, 103, 104, 105, 106, 107],\n",
        "    'course_name': ['Data Structures', 'Algorithms', 'Calculus', 'Physics 1', 'AI', 'OS', 'Chemistry'],\n",
        "    'teacher_id': [1, 1, 2, 4, 3, 1, 999],\n",
        "    'hours_per_week': [4, 3, 5, 3, 4, 2, 3]\n",
        "})\n",
        "courses.to_csv(\"courses.csv\", index=False)"
      ],
      "metadata": {
        "id": "USW4icAx6MIr"
      },
      "execution_count": 47,
      "outputs": []
    },
    {
      "cell_type": "code",
      "source": [
        "courses.to_csv(\"courses.csv\", index=False)\n",
        "\n",
        "print(\"Datasets created and saved: teachers.csv, courses.csv\\n\")\n"
      ],
      "metadata": {
        "colab": {
          "base_uri": "https://localhost:8080/",
          "height": 0
        },
        "id": "aG6rGn776QPl",
        "outputId": "aaf7ad26-d97c-4ce6-ec1b-9ef95fb97b60"
      },
      "execution_count": 48,
      "outputs": [
        {
          "output_type": "stream",
          "name": "stdout",
          "text": [
            "Datasets created and saved: teachers.csv, courses.csv\n",
            "\n"
          ]
        }
      ]
    },
    {
      "cell_type": "code",
      "source": [
        "teachers = pd.read_csv(\"teachers.csv\")\n",
        "courses = pd.read_csv(\"courses.csv\")\n",
        "\n",
        "print(\"TEACHERS DATASET \")\n",
        "print(teachers, \"\\n\")\n",
        "\n",
        "print(\" COURSES DATASET\")\n",
        "print(courses, \"\\n\")"
      ],
      "metadata": {
        "colab": {
          "base_uri": "https://localhost:8080/",
          "height": 0
        },
        "id": "UpKfrZqm6X1s",
        "outputId": "f7ae0c8b-4b43-4280-da73-250155bf0379"
      },
      "execution_count": 49,
      "outputs": [
        {
          "output_type": "stream",
          "name": "stdout",
          "text": [
            "TEACHERS DATASET \n",
            "   teacher_id teacher_name        department\n",
            "0           1      madhuri  Computer Science\n",
            "1           2       varsha       Mathematics\n",
            "2           3       nithya  Computer Science\n",
            "3           4       karuna           Physics\n",
            "4           5          sai       Mathematics \n",
            "\n",
            " COURSES DATASET\n",
            "   course_id      course_name  teacher_id  hours_per_week\n",
            "0        101  Data Structures           1               4\n",
            "1        102       Algorithms           1               3\n",
            "2        103         Calculus           2               5\n",
            "3        104        Physics 1           4               3\n",
            "4        105               AI           3               4\n",
            "5        106               OS           1               2\n",
            "6        107        Chemistry         999               3 \n",
            "\n"
          ]
        }
      ]
    },
    {
      "cell_type": "code",
      "source": [
        "# Inner Join:\n",
        "merged_inner = pd.merge(courses, teachers, on=\"teacher_id\", how=\"inner\")\n",
        "print(\" INNER JOIN RESULT\")\n",
        "print(merged_inner, \"\\n\")"
      ],
      "metadata": {
        "colab": {
          "base_uri": "https://localhost:8080/",
          "height": 0
        },
        "id": "xDvCk2su6o02",
        "outputId": "5a633ddf-10d8-4b20-b142-b3e9a551b31d"
      },
      "execution_count": 50,
      "outputs": [
        {
          "output_type": "stream",
          "name": "stdout",
          "text": [
            " INNER JOIN RESULT\n",
            "   course_id      course_name  teacher_id  hours_per_week teacher_name  \\\n",
            "0        101  Data Structures           1               4      madhuri   \n",
            "1        102       Algorithms           1               3      madhuri   \n",
            "2        103         Calculus           2               5       varsha   \n",
            "3        104        Physics 1           4               3       karuna   \n",
            "4        105               AI           3               4       nithya   \n",
            "5        106               OS           1               2      madhuri   \n",
            "\n",
            "         department  \n",
            "0  Computer Science  \n",
            "1  Computer Science  \n",
            "2       Mathematics  \n",
            "3           Physics  \n",
            "4  Computer Science  \n",
            "5  Computer Science   \n",
            "\n"
          ]
        }
      ]
    },
    {
      "cell_type": "code",
      "source": [
        "# Left Join:\n",
        "merged_left = pd.merge(courses, teachers, on=\"teacher_id\", how=\"left\")\n",
        "print(\" LEFT JOIN RESULT \")\n",
        "print(merged_left, \"\\n\")"
      ],
      "metadata": {
        "colab": {
          "base_uri": "https://localhost:8080/",
          "height": 0
        },
        "id": "oht6qepK6s1O",
        "outputId": "65c3f963-d456-404c-8bd9-d796d9d189e1"
      },
      "execution_count": 51,
      "outputs": [
        {
          "output_type": "stream",
          "name": "stdout",
          "text": [
            " LEFT JOIN RESULT \n",
            "   course_id      course_name  teacher_id  hours_per_week teacher_name  \\\n",
            "0        101  Data Structures           1               4      madhuri   \n",
            "1        102       Algorithms           1               3      madhuri   \n",
            "2        103         Calculus           2               5       varsha   \n",
            "3        104        Physics 1           4               3       karuna   \n",
            "4        105               AI           3               4       nithya   \n",
            "5        106               OS           1               2      madhuri   \n",
            "6        107        Chemistry         999               3          NaN   \n",
            "\n",
            "         department  \n",
            "0  Computer Science  \n",
            "1  Computer Science  \n",
            "2       Mathematics  \n",
            "3           Physics  \n",
            "4  Computer Science  \n",
            "5  Computer Science  \n",
            "6               NaN   \n",
            "\n"
          ]
        }
      ]
    },
    {
      "cell_type": "code",
      "source": [
        "#Average number of courses per teacher\n",
        "courses_per_teacher = merged_inner.groupby(\"teacher_name\")[\"course_id\"].count()\n",
        "average_courses = courses_per_teacher.mean()\n",
        "print(f\"AVERAGE COURSES PER TEACHER: {average_courses}\\n\")"
      ],
      "metadata": {
        "colab": {
          "base_uri": "https://localhost:8080/",
          "height": 0
        },
        "id": "FQk4Tdoc69X1",
        "outputId": "703438a6-ff23-46db-d9ec-9fb75292e9ad"
      },
      "execution_count": 52,
      "outputs": [
        {
          "output_type": "stream",
          "name": "stdout",
          "text": [
            "AVERAGE COURSES PER TEACHER: 1.5\n",
            "\n"
          ]
        }
      ]
    },
    {
      "cell_type": "code",
      "source": [
        "# Department-wise total workload\n",
        "dept_workload = merged_inner.groupby(\"department\")[\"hours_per_week\"].sum().reset_index()\n",
        "print(\" DEPARTMENT-WISE TOTAL WORKLOAD \")\n",
        "print(dept_workload, \"\\n\")"
      ],
      "metadata": {
        "colab": {
          "base_uri": "https://localhost:8080/",
          "height": 0
        },
        "id": "Vv2Ahhej7Fso",
        "outputId": "a39e8974-644b-42dc-afdd-a6c9a27e622f"
      },
      "execution_count": 53,
      "outputs": [
        {
          "output_type": "stream",
          "name": "stdout",
          "text": [
            " DEPARTMENT-WISE TOTAL WORKLOAD \n",
            "         department  hours_per_week\n",
            "0  Computer Science              13\n",
            "1       Mathematics               5\n",
            "2           Physics               3 \n",
            "\n"
          ]
        }
      ]
    },
    {
      "cell_type": "code",
      "source": [
        "# Teacher-wise workload\n",
        "teacher_workload = merged_inner.groupby(\"teacher_name\")[\"hours_per_week\"].sum().reset_index()\n",
        "print(\"TEACHER-WISE WORKLOAD \")\n",
        "print(teacher_workload, \"\\n\")"
      ],
      "metadata": {
        "colab": {
          "base_uri": "https://localhost:8080/",
          "height": 0
        },
        "id": "T8iwkcHw8qa5",
        "outputId": "b4e8dc50-2925-4e97-9319-89b242094882"
      },
      "execution_count": 54,
      "outputs": [
        {
          "output_type": "stream",
          "name": "stdout",
          "text": [
            "TEACHER-WISE WORKLOAD \n",
            "  teacher_name  hours_per_week\n",
            "0       karuna               3\n",
            "1      madhuri               9\n",
            "2       nithya               4\n",
            "3       varsha               5 \n",
            "\n"
          ]
        }
      ]
    },
    {
      "cell_type": "code",
      "source": [
        "# Department with highest workload\n",
        "top_dept = dept_workload.loc[dept_workload[\"hours_per_week\"].idxmax()]\n",
        "print(f\"DEPARTMENT WITH HIGHEST WORKLOAD: {top_dept['department']} ({top_dept['hours_per_week']} hours/week)\")\n"
      ],
      "metadata": {
        "id": "rCI4XZ0-81yY",
        "outputId": "0387009e-8c63-4621-da76-617f4f28d8e3",
        "colab": {
          "base_uri": "https://localhost:8080/",
          "height": 0
        }
      },
      "execution_count": 55,
      "outputs": [
        {
          "output_type": "stream",
          "name": "stdout",
          "text": [
            "DEPARTMENT WITH HIGHEST WORKLOAD: Computer Science (13 hours/week)\n"
          ]
        }
      ]
    }
  ]
}