{
  "nbformat": 4,
  "nbformat_minor": 0,
  "metadata": {
    "colab": {
      "provenance": [],
      "authorship_tag": "ABX9TyOvMD/4SwQ06VqoyARwqKh8",
      "include_colab_link": true
    },
    "kernelspec": {
      "name": "python3",
      "display_name": "Python 3"
    },
    "language_info": {
      "name": "python"
    }
  },
  "cells": [
    {
      "cell_type": "markdown",
      "metadata": {
        "id": "view-in-github",
        "colab_type": "text"
      },
      "source": [
        "<a href=\"https://colab.research.google.com/github/2303a51295madhuri/python-for-data-science/blob/main/Lab_5.ipynb\" target=\"_parent\"><img src=\"https://colab.research.google.com/assets/colab-badge.svg\" alt=\"Open In Colab\"/></a>"
      ]
    },
    {
      "cell_type": "code",
      "execution_count": 1,
      "metadata": {
        "id": "lRvZemJO2JS7"
      },
      "outputs": [],
      "source": [
        "import pandas as pd"
      ]
    },
    {
      "cell_type": "code",
      "source": [
        "# Products Dataset\n",
        "products = pd.DataFrame({\n",
        "    'product_id': [101, 102, 103, 104, 105],\n",
        "    'product_name': ['Laptop', 'Mouse', 'Keyboard', 'Monitor', 'Headphones'],\n",
        "    'category': ['Electronics', 'Accessories', 'Accessories', 'Electronics', 'Accessories'],\n",
        "    'price': [80000, 1200, 2500, 15000, 3500]\n",
        "})\n",
        "products.to_csv(\"products.csv\", index=False)"
      ],
      "metadata": {
        "id": "7qYGVpeD2TuX"
      },
      "execution_count": 2,
      "outputs": []
    },
    {
      "cell_type": "code",
      "source": [
        "sales = pd.DataFrame({\n",
        "    'sale_id': [1, 2, 3, 4, 5, 6, 7],\n",
        "    'product_id': [101, 102, 103, 101, 105, 105, 104],\n",
        "    'quantity': [2, 10, 5, 1, 3, 1, 2]\n",
        "})\n",
        "sales.to_csv(\"sales.csv\", index=False)"
      ],
      "metadata": {
        "id": "kuXq2co_2d1c"
      },
      "execution_count": 3,
      "outputs": []
    },
    {
      "cell_type": "code",
      "source": [
        "print(\" Datasets Created & Saved: products.csv, sales.csv\\n\")"
      ],
      "metadata": {
        "colab": {
          "base_uri": "https://localhost:8080/",
          "height": 0
        },
        "id": "UuNDEtoG2jho",
        "outputId": "33889405-01f5-491a-de09-8375e7a2d556"
      },
      "execution_count": 4,
      "outputs": [
        {
          "output_type": "stream",
          "name": "stdout",
          "text": [
            " Datasets Created & Saved: products.csv, sales.csv\n",
            "\n"
          ]
        }
      ]
    },
    {
      "cell_type": "code",
      "source": [
        "products = pd.read_csv(\"products.csv\")\n",
        "sales = pd.read_csv(\"sales.csv\")\n",
        "\n",
        "print(\"PRODUCTS DATASET \")\n",
        "print(products, \"\\n\")\n",
        "\n",
        "print(\"SALES DATASET\")\n",
        "print(sales, \"\\n\")"
      ],
      "metadata": {
        "colab": {
          "base_uri": "https://localhost:8080/",
          "height": 0
        },
        "id": "1CEdwUZu2zCV",
        "outputId": "b0b1829b-4e2f-4390-fd73-7712df34871d"
      },
      "execution_count": 7,
      "outputs": [
        {
          "output_type": "stream",
          "name": "stdout",
          "text": [
            "PRODUCTS DATASET \n",
            "   product_id product_name     category  price\n",
            "0         101       Laptop  Electronics  80000\n",
            "1         102        Mouse  Accessories   1200\n",
            "2         103     Keyboard  Accessories   2500\n",
            "3         104      Monitor  Electronics  15000\n",
            "4         105   Headphones  Accessories   3500 \n",
            "\n",
            "SALES DATASET\n",
            "   sale_id  product_id  quantity\n",
            "0        1         101         2\n",
            "1        2         102        10\n",
            "2        3         103         5\n",
            "3        4         101         1\n",
            "4        5         105         3\n",
            "5        6         105         1\n",
            "6        7         104         2 \n",
            "\n"
          ]
        }
      ]
    },
    {
      "cell_type": "code",
      "source": [
        "# Inner Join\n",
        "merged_inner = pd.merge(sales, products, on='product_id', how='inner')\n",
        "print(\"INNER JOIN RESULT\")\n",
        "print(merged_inner, \"\\n\")\n"
      ],
      "metadata": {
        "colab": {
          "base_uri": "https://localhost:8080/",
          "height": 0
        },
        "id": "8bAVoExJ3Aj-",
        "outputId": "b2204ec9-c427-49ad-e1e1-6828c01ca5d8"
      },
      "execution_count": 8,
      "outputs": [
        {
          "output_type": "stream",
          "name": "stdout",
          "text": [
            "INNER JOIN RESULT\n",
            "   sale_id  product_id  quantity product_name     category  price\n",
            "0        1         101         2       Laptop  Electronics  80000\n",
            "1        2         102        10        Mouse  Accessories   1200\n",
            "2        3         103         5     Keyboard  Accessories   2500\n",
            "3        4         101         1       Laptop  Electronics  80000\n",
            "4        5         105         3   Headphones  Accessories   3500\n",
            "5        6         105         1   Headphones  Accessories   3500\n",
            "6        7         104         2      Monitor  Electronics  15000 \n",
            "\n"
          ]
        }
      ]
    },
    {
      "cell_type": "code",
      "source": [
        "# Outer Join\n",
        "merged_outer = pd.merge(sales, products, on='product_id', how='outer')\n",
        "print(\"OUTER JOIN RESULT\")\n",
        "print(merged_outer, \"\\n\")"
      ],
      "metadata": {
        "colab": {
          "base_uri": "https://localhost:8080/",
          "height": 0
        },
        "id": "XF0p8fJD3HAO",
        "outputId": "abc81221-a056-483b-dab0-9c4c1b8272ac"
      },
      "execution_count": 9,
      "outputs": [
        {
          "output_type": "stream",
          "name": "stdout",
          "text": [
            "OUTER JOIN RESULT\n",
            "   sale_id  product_id  quantity product_name     category  price\n",
            "0        1         101         2       Laptop  Electronics  80000\n",
            "1        4         101         1       Laptop  Electronics  80000\n",
            "2        2         102        10        Mouse  Accessories   1200\n",
            "3        3         103         5     Keyboard  Accessories   2500\n",
            "4        7         104         2      Monitor  Electronics  15000\n",
            "5        5         105         3   Headphones  Accessories   3500\n",
            "6        6         105         1   Headphones  Accessories   3500 \n",
            "\n"
          ]
        }
      ]
    },
    {
      "cell_type": "code",
      "source": [
        "merged_inner['revenue'] = merged_inner['price'] * merged_inner['quantity']\n",
        "\n",
        "# Total Revenue\n",
        "total_revenue = merged_inner['revenue'].sum()\n",
        "print(f\"TOTAL REVENUE: {total_revenue}\")"
      ],
      "metadata": {
        "colab": {
          "base_uri": "https://localhost:8080/",
          "height": 0
        },
        "id": "XUINtKCd3PCf",
        "outputId": "cb0e5231-9536-4bfd-c3d5-667d3b743bb0"
      },
      "execution_count": 10,
      "outputs": [
        {
          "output_type": "stream",
          "name": "stdout",
          "text": [
            "TOTAL REVENUE: 308500\n"
          ]
        }
      ]
    },
    {
      "cell_type": "code",
      "source": [
        "# Average Price\n",
        "average_price = merged_inner['price'].mean()\n",
        "print(f\"AVERAGE PRODUCT PRICE: {average_price}\\n\")"
      ],
      "metadata": {
        "colab": {
          "base_uri": "https://localhost:8080/",
          "height": 0
        },
        "id": "ONokRFSj3aIr",
        "outputId": "512d160a-47d8-4460-ddc2-86105ae48ad2"
      },
      "execution_count": 11,
      "outputs": [
        {
          "output_type": "stream",
          "name": "stdout",
          "text": [
            "AVERAGE PRODUCT PRICE: 26528.571428571428\n",
            "\n"
          ]
        }
      ]
    },
    {
      "cell_type": "code",
      "source": [
        "\n",
        "# Product-wise Sales\n",
        "product_sales = merged_inner.groupby('product_name')['revenue'].sum().reset_index()\n",
        "print(\"PRODUCT-WISE SALES\")\n",
        "print(product_sales, \"\\n\")"
      ],
      "metadata": {
        "colab": {
          "base_uri": "https://localhost:8080/",
          "height": 0
        },
        "id": "9IGJfO0c3ev1",
        "outputId": "92ccbd0b-6f94-40f6-a35d-64e1d9ca7609"
      },
      "execution_count": 12,
      "outputs": [
        {
          "output_type": "stream",
          "name": "stdout",
          "text": [
            "PRODUCT-WISE SALES\n",
            "  product_name  revenue\n",
            "0   Headphones    14000\n",
            "1     Keyboard    12500\n",
            "2       Laptop   240000\n",
            "3      Monitor    30000\n",
            "4        Mouse    12000 \n",
            "\n"
          ]
        }
      ]
    },
    {
      "cell_type": "code",
      "source": [
        "# Category-wise Sales\n",
        "category_sales = merged_inner.groupby('category')['revenue'].sum().reset_index()\n",
        "print(\" CATEGORY-WISE SALES \")\n",
        "print(category_sales, \"\\n\")\n"
      ],
      "metadata": {
        "colab": {
          "base_uri": "https://localhost:8080/",
          "height": 0
        },
        "id": "N3RjZvmW3k7S",
        "outputId": "5329b813-cbc1-4ea1-820e-0d3b892dd6d1"
      },
      "execution_count": 13,
      "outputs": [
        {
          "output_type": "stream",
          "name": "stdout",
          "text": [
            " CATEGORY-WISE SALES \n",
            "      category  revenue\n",
            "0  Accessories    38500\n",
            "1  Electronics   270000 \n",
            "\n"
          ]
        }
      ]
    },
    {
      "cell_type": "code",
      "source": [
        "# Best-Selling Category\n",
        "best_category = category_sales.loc[category_sales['revenue'].idxmax()]\n",
        "print(f\"BEST SELLING CATEGORY: {best_category['category']} (Revenue: {best_category['revenue']})\")\n"
      ],
      "metadata": {
        "colab": {
          "base_uri": "https://localhost:8080/",
          "height": 0
        },
        "id": "0J8QEUgL3uPR",
        "outputId": "74e7e65a-3c95-4531-a3f9-536762e7c5f2"
      },
      "execution_count": 14,
      "outputs": [
        {
          "output_type": "stream",
          "name": "stdout",
          "text": [
            "BEST SELLING CATEGORY: Electronics (Revenue: 270000)\n"
          ]
        }
      ]
    }
  ]
}