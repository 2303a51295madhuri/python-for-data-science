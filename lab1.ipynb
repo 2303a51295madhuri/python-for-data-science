{
  "nbformat": 4,
  "nbformat_minor": 0,
  "metadata": {
    "colab": {
      "provenance": [],
      "include_colab_link": true
    },
    "kernelspec": {
      "name": "python3",
      "display_name": "Python 3"
    },
    "language_info": {
      "name": "python"
    }
  },
  "cells": [
    {
      "cell_type": "markdown",
      "metadata": {
        "id": "view-in-github",
        "colab_type": "text"
      },
      "source": [
        "<a href=\"https://colab.research.google.com/github/2303a51295madhuri/python-for-data-science/blob/main/lab1.ipynb\" target=\"_parent\"><img src=\"https://colab.research.google.com/assets/colab-badge.svg\" alt=\"Open In Colab\"/></a>"
      ]
    },
    {
      "cell_type": "code",
      "execution_count": null,
      "metadata": {
        "colab": {
          "base_uri": "https://localhost:8080/"
        },
        "id": "8CDziPfI6_1u",
        "outputId": "a8631b9f-a63b-4f49-bbf3-2ff623ad878b"
      },
      "outputs": [
        {
          "output_type": "stream",
          "name": "stdout",
          "text": [
            "n! = 120\n",
            "r! = 2\n",
            "(n-r)! = 6\n",
            "The value of 5C2 is: 10\n",
            "Result using math.comb(): 10\n"
          ]
        }
      ],
      "source": [
        "def factorial(n, accumulator=1):\n",
        "    if not isinstance(n, int) or n < 0:\n",
        "        return \"Error: Input must be a non-negative integer.\"\n",
        "    if n == 0 or n == 1:\n",
        "        return accumulator\n",
        "    return factorial(n-1, n * accumulator)\n",
        "def calculate_nCr(n, r):\n",
        "    if not isinstance(n, int) or not isinstance(r, int) or n < r or r < 0:\n",
        "        return \"Error: Invalid input values. Ensure n ≥ r ≥ 0.\"\n",
        "    n_fact = factorial(n)\n",
        "    r_fact = factorial(r)\n",
        "    n_r_fact = factorial(n-r)\n",
        "    nCr = n_fact // (r_fact * n_r_fact)\n",
        "    print(f\"n! = {n_fact}\")\n",
        "    print(f\"r! = {r_fact}\")\n",
        "    print(f\"(n-r)! = {n_r_fact}\")\n",
        "    return nCr\n",
        "n = 5\n",
        "r = 2\n",
        "result = calculate_nCr(n, r)\n",
        "print(f\"The value of {n}C{r} is: {result}\")\n",
        "import math\n",
        "result_math_comb = math.comb(n, r)\n",
        "print(f\"Result using math.comb(): {result_math_comb}\")"
      ]
    }
  ]
}