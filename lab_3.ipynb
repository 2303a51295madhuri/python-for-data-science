{
  "nbformat": 4,
  "nbformat_minor": 0,
  "metadata": {
    "colab": {
      "provenance": [],
      "include_colab_link": true
    },
    "kernelspec": {
      "name": "python3",
      "display_name": "Python 3"
    },
    "language_info": {
      "name": "python"
    }
  },
  "cells": [
    {
      "cell_type": "markdown",
      "metadata": {
        "id": "view-in-github",
        "colab_type": "text"
      },
      "source": [
        "<a href=\"https://colab.research.google.com/github/2303a51295madhuri/python-for-data-science/blob/main/lab_3.ipynb\" target=\"_parent\"><img src=\"https://colab.research.google.com/assets/colab-badge.svg\" alt=\"Open In Colab\"/></a>"
      ]
    },
    {
      "cell_type": "markdown",
      "source": [
        "Perform basic arithmetic operations like addition and subtraction\n",
        "on 2D NumPy arrays representing matrices"
      ],
      "metadata": {
        "id": "wnIdmeaRqlsc"
      }
    },
    {
      "cell_type": "code",
      "execution_count": null,
      "metadata": {
        "colab": {
          "base_uri": "https://localhost:8080/"
        },
        "id": "5k9hGQXcp_6U",
        "outputId": "8db50ca8-823b-41d7-fc7a-db6e3a8f2b77"
      },
      "outputs": [
        {
          "output_type": "stream",
          "name": "stdout",
          "text": [
            "[[20 30 40]\n",
            " [40 50 60]]\n",
            "[[15 10 25]\n",
            " [20 25 35]]\n"
          ]
        }
      ],
      "source": [
        "import numpy as np\n",
        "A=np.array([[20,30,40],[40,50,60]])\n",
        "B=np.array([[15,10,25],[20,25,35]])\n",
        "print(A)\n",
        "print(B)\n"
      ]
    },
    {
      "cell_type": "code",
      "source": [
        "addition=np.add(A,B)\n",
        "print(addition)\n",
        "subtraction=np.subtract(A,B)\n",
        "print(subtraction)"
      ],
      "metadata": {
        "colab": {
          "base_uri": "https://localhost:8080/"
        },
        "id": "hy9yR_DGqCz-",
        "outputId": "2118b18e-ebb9-4b4a-ede1-0eff4df61e4a"
      },
      "execution_count": null,
      "outputs": [
        {
          "output_type": "stream",
          "name": "stdout",
          "text": [
            "[[35 40 65]\n",
            " [60 75 95]]\n",
            "[[ 5 20 15]\n",
            " [20 25 25]]\n"
          ]
        }
      ]
    },
    {
      "cell_type": "markdown",
      "source": [
        "Apply statistical operations like mean, median, std, min, and max\n",
        "to analyze 2D array data."
      ],
      "metadata": {
        "id": "eFTIBdNgqwcL"
      }
    },
    {
      "cell_type": "code",
      "source": [
        "import numpy as np\n",
        "scores = np.random.randint(0, 101, (4, 4))\n",
        "print(\"Test Scores (4x4):\\n\", scores)\n",
        "row_mean = np.mean(scores, axis=1)\n",
        "print(\"\\nRow-wise Mean (per student):\\n\", row_mean)\n",
        "col_mean = np.mean(scores, axis=0)\n",
        "print(\"\\nColumn-wise Mean (per subject):\\n\", col_mean)\n",
        "std_dev = np.std(scores)\n",
        "variance = np.var(scores)\n",
        "print(\"\\nStandard Deviation of all scores:\", std_dev)\n",
        "print(\"Variance of all scores:\", variance)\n",
        "max_value = np.max(scores)\n",
        "min_value = np.min(scores)\n",
        "max_index = np.unravel_index(np.argmax(scores), scores.shape)\n",
        "min_index = np.unravel_index(np.argmin(scores), scores.shape)\n",
        "print(\"\\nMaximum Score:\", max_value)\n",
        "print(\"Minimum Score:\", min_value)"
      ],
      "metadata": {
        "colab": {
          "base_uri": "https://localhost:8080/"
        },
        "id": "NYDmUf_wqSpM",
        "outputId": "f4a5db57-295b-4c2a-fec7-71878b7ce8e6"
      },
      "execution_count": null,
      "outputs": [
        {
          "output_type": "stream",
          "name": "stdout",
          "text": [
            "Test Scores (4x4):\n",
            " [[ 55  66  93  66]\n",
            " [ 40  96  89  26]\n",
            " [ 17  46   2  98]\n",
            " [ 67  54  49 100]]\n",
            "\n",
            "Row-wise Mean (per student):\n",
            " [70.   62.75 40.75 67.5 ]\n",
            "\n",
            "Column-wise Mean (per subject):\n",
            " [44.75 65.5  58.25 72.5 ]\n",
            "\n",
            "Standard Deviation of all scores: 29.0871535217869\n",
            "Variance of all scores: 846.0625\n",
            "\n",
            "Maximum Score: 100\n",
            "Minimum Score: 2\n"
          ]
        }
      ]
    },
    {
      "cell_type": "markdown",
      "source": [
        "Apply statistical operations like mean, median, std, min, and max\n",
        "to analyze 2D array data"
      ],
      "metadata": {
        "id": "ks_xNpY1q7Ks"
      }
    },
    {
      "cell_type": "code",
      "source": [
        "import numpy as np\n",
        "image = np.random.randint(0, 256, (3, 3, 3))\n",
        "print(\"Original Image:\\n\", image)\n",
        "red   = image[:, :, 0]\n",
        "green = image[:, :, 1]\n",
        "blue  = image[:, :, 2]\n",
        "print(\"\\nRed Channel:\\n\", red)\n",
        "print(\"\\nGreen Channel:\\n\", green)\n",
        "print(\"\\nBlue Channel:\\n\", blue)\n",
        "print(\"\\nAverage Red:\", np.mean(red))\n",
        "print(\"Average Green:\", np.mean(green))\n",
        "print(\"Average Blue:\", np.mean(blue))\n",
        "bright = np.clip(np.add(image, 50), 0, 255)\n",
        "print(\"\\nBrightened Image:\\n\", bright)\n",
        "dark = np.clip(np.subtract(image, 50), 0, 255)\n",
        "print(\"\\nDarkened Image:\\n\", dark)\n"
      ],
      "metadata": {
        "colab": {
          "base_uri": "https://localhost:8080/"
        },
        "id": "6apIgP1WqamT",
        "outputId": "54bcac03-ef3c-451a-e76f-c7089942a4ef"
      },
      "execution_count": null,
      "outputs": [
        {
          "output_type": "stream",
          "name": "stdout",
          "text": [
            "Original Image:\n",
            " [[[198 131 126]\n",
            "  [ 58  61 143]\n",
            "  [ 87 100 226]]\n",
            "\n",
            " [[186 250 144]\n",
            "  [247  11  47]\n",
            "  [ 60 112  11]]\n",
            "\n",
            " [[218  84  42]\n",
            "  [196 249  52]\n",
            "  [ 92  55 208]]]\n",
            "\n",
            "Red Channel:\n",
            " [[198  58  87]\n",
            " [186 247  60]\n",
            " [218 196  92]]\n",
            "\n",
            "Green Channel:\n",
            " [[131  61 100]\n",
            " [250  11 112]\n",
            " [ 84 249  55]]\n",
            "\n",
            "Blue Channel:\n",
            " [[126 143 226]\n",
            " [144  47  11]\n",
            " [ 42  52 208]]\n",
            "\n",
            "Average Red: 149.11111111111111\n",
            "Average Green: 117.0\n",
            "Average Blue: 111.0\n",
            "\n",
            "Brightened Image:\n",
            " [[[248 181 176]\n",
            "  [108 111 193]\n",
            "  [137 150 255]]\n",
            "\n",
            " [[236 255 194]\n",
            "  [255  61  97]\n",
            "  [110 162  61]]\n",
            "\n",
            " [[255 134  92]\n",
            "  [246 255 102]\n",
            "  [142 105 255]]]\n",
            "\n",
            "Darkened Image:\n",
            " [[[148  81  76]\n",
            "  [  8  11  93]\n",
            "  [ 37  50 176]]\n",
            "\n",
            " [[136 200  94]\n",
            "  [197   0   0]\n",
            "  [ 10  62   0]]\n",
            "\n",
            " [[168  34   0]\n",
            "  [146 199   2]\n",
            "  [ 42   5 158]]]\n"
          ]
        }
      ]
    },
    {
      "cell_type": "code",
      "source": [],
      "metadata": {
        "id": "4uAxOG9KqfHO"
      },
      "execution_count": null,
      "outputs": []
    }
  ]
}