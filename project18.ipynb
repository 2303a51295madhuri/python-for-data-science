{
  "nbformat": 4,
  "nbformat_minor": 0,
  "metadata": {
    "colab": {
      "provenance": [],
      "authorship_tag": "ABX9TyPim65t1rJQyVcpNY3j4ReP",
      "include_colab_link": true
    },
    "kernelspec": {
      "name": "python3",
      "display_name": "Python 3"
    },
    "language_info": {
      "name": "python"
    }
  },
  "cells": [
    {
      "cell_type": "markdown",
      "metadata": {
        "id": "view-in-github",
        "colab_type": "text"
      },
      "source": [
        "<a href=\"https://colab.research.google.com/github/2303a51295madhuri/python-for-data-science/blob/main/project18.ipynb\" target=\"_parent\"><img src=\"https://colab.research.google.com/assets/colab-badge.svg\" alt=\"Open In Colab\"/></a>"
      ]
    },
    {
      "cell_type": "code",
      "source": [
        "\n",
        "import os\n",
        "import numpy as np\n",
        "import pandas as pd\n",
        "from sklearn.model_selection import train_test_split\n",
        "from sklearn.preprocessing import StandardScaler\n",
        "import matplotlib.pyplot as plt\n",
        "import warnings\n",
        "warnings.filterwarnings(\"ignore\")\n",
        "\n",
        "# Optional: XGBoost\n",
        "try:\n",
        "    from xgboost import XGBClassifier\n",
        "    xgb_available = True\n",
        "except:\n",
        "    xgb_available = False\n",
        "\n",
        "# Load CSV files\n",
        "district_path = \"/content/district wise rainfall normal.csv\"\n",
        "hist_path = \"/content/rainfall in india 1901-2015.csv\"\n",
        "\n",
        "df_district = pd.read_csv(district_path, encoding='latin1')\n",
        "df_hist = pd.read_csv(hist_path, encoding='latin1')\n",
        "\n",
        "# Normalize column names\n",
        "df_district.columns = [c.strip() for c in df_district.columns]\n",
        "df_hist.columns = [c.strip() for c in df_hist.columns]\n",
        "\n",
        "# Extract monthly columns\n",
        "months = ['JAN','FEB','MAR','APR','MAY','JUN','JUL','AUG','SEP','OCT','NOV','DEC']\n",
        "existing_months = [m for m in months if m in df_district.columns]\n",
        "\n",
        "feat = df_district[['STATE_UT_NAME','DISTRICT']].copy()\n",
        "for m in existing_months:\n",
        "    feat[f\"{m}_norm\"] = df_district[m].astype(float)\n",
        "\n",
        "# Seasonal aggregates if available\n",
        "for s in ['Jan-Feb','Mar-May','Jun-Sep','Oct-Dec','ANNUAL']:\n",
        "    if s in df_district.columns:\n",
        "        feat[s.replace('-','_').lower()] = pd.to_numeric(df_district[s], errors='coerce')\n",
        "\n",
        "# Statistical features\n",
        "feat['month_mean_norm'] = feat[[f\"{m}_norm\" for m in existing_months]].mean(axis=1)\n",
        "feat['month_std_norm']  = feat[[f\"{m}_norm\" for m in existing_months]].std(axis=1)\n",
        "feat['month_max_norm']  = feat[[f\"{m}_norm\" for m in existing_months]].max(axis=1)\n",
        "feat['month_min_norm']  = feat[[f\"{m}_norm\" for m in existing_months]].min(axis=1)\n",
        "if 'ANNUAL' in df_district.columns:\n",
        "    feat['annual_norm'] = pd.to_numeric(df_district['ANNUAL'], errors='coerce')\n",
        "else:\n",
        "    feat['annual_norm'] = feat[[f\"{m}_norm\" for m in existing_months]].sum(axis=1)\n",
        "\n",
        "# ---- Historical trend computation ----\n",
        "if 'YEAR' in df_hist.columns:\n",
        "    candidate_cols = [c for c in df_hist.columns if c != 'YEAR']\n",
        "    district_names = df_district['DISTRICT'].astype(str).str.upper().str.strip().unique()\n",
        "    matches = [c for c in candidate_cols if str(c).upper().strip() in district_names]\n",
        "    if len(matches) > 0:\n",
        "        years = pd.to_numeric(df_hist['YEAR'], errors='coerce').values\n",
        "        slopes = {}\n",
        "        for c in matches:\n",
        "            series = pd.to_numeric(df_hist[c], errors='coerce').values\n",
        "            mask = ~np.isnan(series) & ~np.isnan(years)\n",
        "            slopes[str(c).strip()] = np.polyfit(years[mask], series[mask], 1)[0] if mask.sum() >= 10 else np.nan\n",
        "        hist_df = pd.DataFrame.from_dict(slopes, orient='index', columns=['slope']).reset_index().rename(columns={'index':'DISTRICT'})\n",
        "    else:\n",
        "        hist_df = pd.DataFrame({'DISTRICT': df_district['DISTRICT'], 'slope': np.nan})\n",
        "else:\n",
        "    hist_df = pd.DataFrame({'DISTRICT': df_district['DISTRICT'], 'slope': np.nan})\n",
        "\n",
        "hist_df['DISTRICT_upper'] = hist_df['DISTRICT'].astype(str).str.upper().str.strip()\n",
        "feat['DISTRICT_upper'] = feat['DISTRICT'].astype(str).str.upper().str.strip()\n",
        "\n",
        "# Merge\n",
        "merged = feat.merge(hist_df[['DISTRICT_upper','slope']], on='DISTRICT_upper', how='left')\n",
        "\n",
        "# Create target label\n",
        "if merged['slope'].notna().sum() >= max(10, 0.25 * len(merged)):\n",
        "    slope_q1 = merged['slope'].quantile(0.25)\n",
        "    merged['target'] = np.where(merged['slope'] <= slope_q1, 1, 0)\n",
        "else:\n",
        "    std_q3 = merged['month_std_norm'].quantile(0.75)\n",
        "    merged['target'] = np.where(merged['month_std_norm'] >= std_q3, 1, 0)\n",
        "\n",
        "# Prepare X, y\n",
        "drop_cols = ['DISTRICT','STATE_UT_NAME','DISTRICT_upper','target','slope']\n",
        "X = merged.drop(columns=[c for c in drop_cols if c in merged.columns])\n",
        "X = X.select_dtypes(include=[np.number])\n",
        "y = merged['target'].astype(int)\n",
        "\n",
        "mask = (~X.isna().any(axis=1)) & (~y.isna())\n",
        "X = X[mask].reset_index(drop=True)\n",
        "y = y[mask].reset_index(drop=True)\n",
        "\n",
        "# Train-test split + scaling\n",
        "from sklearn.model_selection import train_test_split\n",
        "X_train, X_test, y_train, y_test = train_test_split(X, y, stratify=y, test_size=0.2, random_state=42)\n",
        "\n",
        "from sklearn.preprocessing import StandardScaler\n",
        "scaler = StandardScaler()\n",
        "X_train_s = scaler.fit_transform(X_train)\n",
        "X_test_s = scaler.transform(X_test)\n",
        "\n",
        "print(\"Data ready. Train size:\", X_train.shape, \"Test size:\", X_test.shape)\n"
      ],
      "metadata": {
        "colab": {
          "base_uri": "https://localhost:8080/"
        },
        "id": "EXvB7kgp-G1X",
        "outputId": "bf4c9f18-2a81-49dc-834d-3a801874a5f2"
      },
      "execution_count": 1,
      "outputs": [
        {
          "output_type": "stream",
          "name": "stdout",
          "text": [
            "Data ready. Train size: (519, 22) Test size: (130, 22)\n"
          ]
        }
      ]
    },
    {
      "cell_type": "code",
      "source": [
        "from sklearn.linear_model import LogisticRegression\n",
        "from sklearn.metrics import classification_report, confusion_matrix, accuracy_score\n",
        "import pandas as pd\n",
        "\n",
        "log_reg = LogisticRegression(max_iter=1000)\n",
        "log_reg.fit(X_train_s, y_train)\n",
        "y_pred = log_reg.predict(X_test_s)\n",
        "\n",
        "print(\"\\n=== Logistic Regression Results ===\")\n",
        "print(\"Accuracy:\", accuracy_score(y_test, y_pred))\n",
        "print(classification_report(y_test, y_pred))\n",
        "\n",
        "# Show districts\n",
        "log_reg_results = pd.DataFrame({\n",
        "    'DISTRICT': merged.loc[y_test.index, 'DISTRICT'].values,\n",
        "    'STATE': merged.loc[y_test.index, 'STATE_UT_NAME'].values,\n",
        "    'Actual': y_test.values,\n",
        "    'Predicted': y_pred\n",
        "})\n",
        "print(\"\\nSample Predictions (Logistic Regression):\")\n",
        "print(log_reg_results.head(10))\n"
      ],
      "metadata": {
        "colab": {
          "base_uri": "https://localhost:8080/"
        },
        "id": "zW0NkMGb-H8t",
        "outputId": "f0fa891b-458f-4697-97bb-34028f474e0a"
      },
      "execution_count": 7,
      "outputs": [
        {
          "output_type": "stream",
          "name": "stdout",
          "text": [
            "\n",
            "=== Logistic Regression Results ===\n",
            "Accuracy: 0.9846153846153847\n",
            "              precision    recall  f1-score   support\n",
            "\n",
            "           0       0.98      1.00      0.99        97\n",
            "           1       1.00      0.94      0.97        33\n",
            "\n",
            "    accuracy                           0.98       130\n",
            "   macro avg       0.99      0.97      0.98       130\n",
            "weighted avg       0.98      0.98      0.98       130\n",
            "\n",
            "\n",
            "Sample Predictions (Logistic Regression):\n",
            "        DISTRICT                        STATE  Actual  Predicted\n",
            "0     BONGAIGAON                        ASSAM       1          1\n",
            "1  KARBI ANGLONG                        ASSAM       0          0\n",
            "2          YANAM                  PONDICHERRY       0          0\n",
            "3         KARGIL            JAMMU AND KASHMIR       0          0\n",
            "4          MAMIT                      MIZORAM       1          1\n",
            "5       JHALAWAR                    RAJASTHAN       0          0\n",
            "6         SHIMLA                     HIMACHAL       0          0\n",
            "7  SOUTH ANDAMAN  ANDAMAN And NICOBAR ISLANDS       1          1\n",
            "8      LAKHIMPUR                        ASSAM       1          1\n",
            "9        LATEHAR                    JHARKHAND       0          0\n"
          ]
        }
      ]
    },
    {
      "cell_type": "code",
      "source": [
        "from sklearn.ensemble import RandomForestClassifier\n",
        "\n",
        "rf = RandomForestClassifier(n_estimators=200, random_state=42)\n",
        "rf.fit(X_train, y_train)  # No scaling needed\n",
        "y_pred = rf.predict(X_test)\n",
        "\n",
        "print(\"\\n=== Random Forest Results ===\")\n",
        "print(\"Accuracy:\", accuracy_score(y_test, y_pred))\n",
        "print(classification_report(y_test, y_pred))\n",
        "\n",
        "rf_results = pd.DataFrame({\n",
        "    'DISTRICT': merged.loc[y_test.index, 'DISTRICT'].values,\n",
        "    'STATE': merged.loc[y_test.index, 'STATE_UT_NAME'].values,\n",
        "    'Actual': y_test.values,\n",
        "    'Predicted': y_pred\n",
        "})\n",
        "print(\"\\nSample Predictions (Random Forest):\")\n",
        "print(rf_results.head(10))\n",
        "\n",
        "# Feature importance\n",
        "importances = rf.feature_importances_\n",
        "fi = pd.DataFrame({'feature':X.columns, 'importance':importances}).sort_values('importance', ascending=False)\n",
        "print(\"\\nTop Features:\")\n",
        "print(fi.head(10))\n"
      ],
      "metadata": {
        "colab": {
          "base_uri": "https://localhost:8080/"
        },
        "id": "-JYXGfhb-LBj",
        "outputId": "08f31ccc-159c-47c1-c683-fd8383ac1a94"
      },
      "execution_count": 8,
      "outputs": [
        {
          "output_type": "stream",
          "name": "stdout",
          "text": [
            "\n",
            "=== Random Forest Results ===\n",
            "Accuracy: 1.0\n",
            "              precision    recall  f1-score   support\n",
            "\n",
            "           0       1.00      1.00      1.00        97\n",
            "           1       1.00      1.00      1.00        33\n",
            "\n",
            "    accuracy                           1.00       130\n",
            "   macro avg       1.00      1.00      1.00       130\n",
            "weighted avg       1.00      1.00      1.00       130\n",
            "\n",
            "\n",
            "Sample Predictions (Random Forest):\n",
            "        DISTRICT                        STATE  Actual  Predicted\n",
            "0     BONGAIGAON                        ASSAM       1          1\n",
            "1  KARBI ANGLONG                        ASSAM       0          0\n",
            "2          YANAM                  PONDICHERRY       0          0\n",
            "3         KARGIL            JAMMU AND KASHMIR       0          0\n",
            "4          MAMIT                      MIZORAM       1          1\n",
            "5       JHALAWAR                    RAJASTHAN       0          0\n",
            "6         SHIMLA                     HIMACHAL       0          0\n",
            "7  SOUTH ANDAMAN  ANDAMAN And NICOBAR ISLANDS       1          1\n",
            "8      LAKHIMPUR                        ASSAM       1          1\n",
            "9        LATEHAR                    JHARKHAND       0          0\n",
            "\n",
            "Top Features:\n",
            "            feature  importance\n",
            "18   month_std_norm    0.253551\n",
            "19   month_max_norm    0.159641\n",
            "14          jun_sep    0.156187\n",
            "6          JUL_norm    0.102097\n",
            "7          AUG_norm    0.095225\n",
            "21      annual_norm    0.042500\n",
            "17  month_mean_norm    0.038398\n",
            "16           annual    0.033928\n",
            "5          JUN_norm    0.029146\n",
            "8          SEP_norm    0.023579\n"
          ]
        }
      ]
    },
    {
      "cell_type": "code",
      "source": [
        "from sklearn.svm import SVC\n",
        "\n",
        "svm_model = SVC(probability=True, kernel='rbf', random_state=42)\n",
        "svm_model.fit(X_train_s, y_train)\n",
        "y_pred = svm_model.predict(X_test_s)\n",
        "\n",
        "print(\"\\n=== SVM Results ===\")\n",
        "print(\"Accuracy:\", accuracy_score(y_test, y_pred))\n",
        "print(classification_report(y_test, y_pred))\n",
        "\n",
        "svm_results = pd.DataFrame({\n",
        "    'DISTRICT': merged.loc[y_test.index, 'DISTRICT'].values,\n",
        "    'STATE': merged.loc[y_test.index, 'STATE_UT_NAME'].values,\n",
        "    'Actual': y_test.values,\n",
        "    'Predicted': y_pred\n",
        "})\n",
        "print(\"\\nSample Predictions (SVM):\")\n",
        "print(svm_results.head(10))\n"
      ],
      "metadata": {
        "colab": {
          "base_uri": "https://localhost:8080/"
        },
        "id": "J-jYk8-C-M2W",
        "outputId": "8a822607-881a-46cd-ede8-f1450b8b05c5"
      },
      "execution_count": 9,
      "outputs": [
        {
          "output_type": "stream",
          "name": "stdout",
          "text": [
            "\n",
            "=== SVM Results ===\n",
            "Accuracy: 0.9615384615384616\n",
            "              precision    recall  f1-score   support\n",
            "\n",
            "           0       0.95      1.00      0.97        97\n",
            "           1       1.00      0.85      0.92        33\n",
            "\n",
            "    accuracy                           0.96       130\n",
            "   macro avg       0.98      0.92      0.95       130\n",
            "weighted avg       0.96      0.96      0.96       130\n",
            "\n",
            "\n",
            "Sample Predictions (SVM):\n",
            "        DISTRICT                        STATE  Actual  Predicted\n",
            "0     BONGAIGAON                        ASSAM       1          1\n",
            "1  KARBI ANGLONG                        ASSAM       0          0\n",
            "2          YANAM                  PONDICHERRY       0          0\n",
            "3         KARGIL            JAMMU AND KASHMIR       0          0\n",
            "4          MAMIT                      MIZORAM       1          1\n",
            "5       JHALAWAR                    RAJASTHAN       0          0\n",
            "6         SHIMLA                     HIMACHAL       0          0\n",
            "7  SOUTH ANDAMAN  ANDAMAN And NICOBAR ISLANDS       1          1\n",
            "8      LAKHIMPUR                        ASSAM       1          1\n",
            "9        LATEHAR                    JHARKHAND       0          0\n"
          ]
        }
      ]
    },
    {
      "cell_type": "code",
      "source": [
        "try:\n",
        "    from xgboost import XGBClassifier\n",
        "    xgb_model = XGBClassifier(use_label_encoder=False, eval_metric='logloss', random_state=42)\n",
        "    xgb_model.fit(X_train, y_train)\n",
        "    y_pred = xgb_model.predict(X_test)\n",
        "\n",
        "    print(\"\\n=== XGBoost Results ===\")\n",
        "    print(\"Accuracy:\", accuracy_score(y_test, y_pred))\n",
        "    print(classification_report(y_test, y_pred))\n",
        "\n",
        "    xgb_results = pd.DataFrame({\n",
        "        'DISTRICT': merged.loc[y_test.index, 'DISTRICT'].values,\n",
        "        'STATE': merged.loc[y_test.index, 'STATE_UT_NAME'].values,\n",
        "        'Actual': y_test.values,\n",
        "        'Predicted': y_pred\n",
        "    })\n",
        "    print(\"\\nSample Predictions (XGBoost):\")\n",
        "    print(xgb_results.head(10))\n",
        "except ImportError:\n",
        "    print(\"XGBoost is not installed in this environment.\")\n"
      ],
      "metadata": {
        "colab": {
          "base_uri": "https://localhost:8080/"
        },
        "id": "7nVyxx0E-Onu",
        "outputId": "c1d172c8-261e-487d-e081-750f9e2621b0"
      },
      "execution_count": 10,
      "outputs": [
        {
          "output_type": "stream",
          "name": "stdout",
          "text": [
            "\n",
            "=== XGBoost Results ===\n",
            "Accuracy: 1.0\n",
            "              precision    recall  f1-score   support\n",
            "\n",
            "           0       1.00      1.00      1.00        97\n",
            "           1       1.00      1.00      1.00        33\n",
            "\n",
            "    accuracy                           1.00       130\n",
            "   macro avg       1.00      1.00      1.00       130\n",
            "weighted avg       1.00      1.00      1.00       130\n",
            "\n",
            "\n",
            "Sample Predictions (XGBoost):\n",
            "        DISTRICT                        STATE  Actual  Predicted\n",
            "0     BONGAIGAON                        ASSAM       1          1\n",
            "1  KARBI ANGLONG                        ASSAM       0          0\n",
            "2          YANAM                  PONDICHERRY       0          0\n",
            "3         KARGIL            JAMMU AND KASHMIR       0          0\n",
            "4          MAMIT                      MIZORAM       1          1\n",
            "5       JHALAWAR                    RAJASTHAN       0          0\n",
            "6         SHIMLA                     HIMACHAL       0          0\n",
            "7  SOUTH ANDAMAN  ANDAMAN And NICOBAR ISLANDS       1          1\n",
            "8      LAKHIMPUR                        ASSAM       1          1\n",
            "9        LATEHAR                    JHARKHAND       0          0\n"
          ]
        }
      ]
    }
  ]
}